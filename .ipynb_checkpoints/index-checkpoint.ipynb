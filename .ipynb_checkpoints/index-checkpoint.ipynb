{
 "cells": [
  {
   "cell_type": "markdown",
   "metadata": {
    "Collapsed": "false",
    "tags": []
   },
   "source": [
    "<div class=\"header\">\n",
    "  <a href=\"http://www.dynamore-project.eu\" title=\"Dynamic MOdeling of REsilience\">\n",
    "    <img src=\"./img/DynaMORE.png\" alt=\"DynaMORE\" width='25%' height=auto>\n",
    "  </a>\n",
    "  <img src=\"./img/emp.png\" width='12%' height='10px'>\n",
    "  <a href=\"https://www.fdm.uni-freiburg.de\" title=\"Freiburg Center for Data Analysis and Modeling\">\n",
    "    <img src=\"./img/fdm.png\" alt=\"FDM\" width='20%' height=auto>\n",
    "  </a>\n",
    "  <img src=\"./img/emp.png\" width='12%' height='10px'>\n",
    "  <a href=\"http://www.uni-freiburg.de\" title=\"Alberts-Ludwig-Universität Freiburg\">\n",
    "    <img    src=\"./img/uniFR.png\" alt=\"Uni Freiburg\" width='10%' height=auto>\n",
    "  </a>\n",
    "</div>"
   ]
  },
  {
   "cell_type": "markdown",
   "metadata": {
    "Collapsed": "false",
    "tags": []
   },
   "source": [
    "# Intraindividual Dynamic Network of Affects\n",
    "## Linear Autoregressive Mixed-Effects Models for Ecological Momentary Assessment"
   ]
  },
  {
   "cell_type": "markdown",
   "metadata": {},
   "source": [
    "<hr>"
   ]
  },
  {
   "cell_type": "markdown",
   "metadata": {},
   "source": [
    "In this work we consider very simple directed intraindividual networks comprising two symptom nodes and one node for external factors. The two symptom nodes interact by enhancing (blue) or dampening (red) each other and the external factors are assumed to be acting on both nodes in a one-way fashion, i.e. the possible effects of a symptom on the perception of external factors are neglected. \n",
    "<div>\n",
    "<center><img src=\"./img/sympIIDE.svg\" width=\"200\"/></center>\n",
    "</div>"
   ]
  },
  {
   "cell_type": "markdown",
   "metadata": {},
   "source": [
    "Assuming intensive longitudinal data through **ecological momentary assessment**, we formalize the mathematical representation of such networks by exogenous linear autoregressive mixed-effects models such that the autoregressive coefficients represent the interactions and the external factors enter the model as exogenous covariates. We let every parameter in the model to have fixed and random components aiming at networks that are allowed to have variable structures over reasonable units of time like days or weeks depending on the study design. Given the fact that a rich theoretical and computational literature furnishes classic linear mixed-effects models, we transform the autoregressive formulation to a classical one and use the already developed methods and tools. Then assuming our model is the true data generating process, we simulate data using a predefined set of parameters and investigate the performance and feasibility of this approach in delivering reliable estimates for different choices of the number of observations and the intensity of noise."
   ]
  },
  {
   "cell_type": "markdown",
   "metadata": {
    "tags": []
   },
   "source": [
    "### How to use these notebooks?\n",
    "\n",
    "Assuming that you have downloaded the notebookes:\n",
    "- install Julia from [julialang.org](https://julialang.org/)\n",
    "- install [IJulia](https://julialang.github.io/IJulia.jl/stable/manual/installation/)\n",
    "- navigate to the directory of notebooks on Terminal\n",
    "- running `jupyter lab` from command line will open a Jupyter dashboard in your browser\n",
    "- open `index.ipynb` and proceed\n"
   ]
  },
  {
   "cell_type": "code",
   "execution_count": null,
   "metadata": {},
   "outputs": [],
   "source": [
    "using Pkg\n",
    "# Pkg.activate(\"./\")\n",
    "Pkg.instantiate()"
   ]
  },
  {
   "cell_type": "markdown",
   "metadata": {},
   "source": [
    "One can of course install the packages without using the julia environment provided by `Project.toml` and `Manifest.toml`. "
   ]
  },
  {
   "cell_type": "code",
   "execution_count": null,
   "metadata": {},
   "outputs": [],
   "source": [
    "Pkg.add([\"LinearAlgebra\", \"Random\", \"Distributions\", \"DataFrames\", \"MixedModels\", \"CSV\", \"StatsModels\", \"CategoricalArrays\", \"GLM\"])"
   ]
  },
  {
   "cell_type": "markdown",
   "metadata": {},
   "source": [
    "## Contents"
   ]
  },
  {
   "cell_type": "markdown",
   "metadata": {},
   "source": [
    "* [**Brief theory and implementation in Julia**, IPYNB](./LARMEx.ipynb)\n",
    "* [Manuscript, PDF](./manuscriptWP1EMA.pdf)"
   ]
  },
  {
   "cell_type": "markdown",
   "metadata": {},
   "source": [
    "<hr>"
   ]
  },
  {
   "cell_type": "markdown",
   "metadata": {},
   "source": [
    "#### Author\n",
    "* [Shakoor Pooseh](http://sysbio.uni-freiburg.de/spooseh/) <br>\n",
    "University of Freiburg\n",
    "\n",
    "#### Access\n",
    "- [GitHub](https://github.com/spooseh/VBDM) for notebooks\n",
    "- [Homepage](http://sysbio.uni-freiburg.de/spooseh/) for html\n",
    "\n"
   ]
  },
  {
   "cell_type": "markdown",
   "metadata": {
    "Collapsed": "false"
   },
   "source": [
    "<hr>\n",
    "&copy; 2022\n",
    "<a rel=\"license\" href=\"http://creativecommons.org/licenses/by/4.0/\"><img style=\"float: right\" alt=\"Creative Commons Licence\" style=\"border-width:0\" src=\"https://i.creativecommons.org/l/by/4.0/88x31.png\" /></a>"
   ]
  }
 ],
 "metadata": {
  "kernelspec": {
   "display_name": "Julia 1.7.2",
   "language": "julia",
   "name": "julia-1.7"
  },
  "language_info": {
   "file_extension": ".jl",
   "mimetype": "application/julia",
   "name": "julia",
   "version": "1.7.2"
  }
 },
 "nbformat": 4,
 "nbformat_minor": 4
}
