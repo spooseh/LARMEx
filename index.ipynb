{
 "cells": [
  {
   "cell_type": "markdown",
   "metadata": {},
   "source": [
    "<table style=\"border: 0px solid;\">\n",
    "  <tr>\n",
    "    <td style=\"border: 0px solid\" width = 25%>\n",
    "      <a href=\"www.dynamore-project.eu\">\n",
    "          <img src=\"./img/DynaMORE.png\" alt=\"DynaMORE\" width = 55%>\n",
    "      </a>\n",
    "    </td>\n",
    "    <td style=\"border: 0px solid\" width = 25%>\n",
    "      <a href=\"www.fdm.uni-freiburg.de\">\n",
    "          <img src=\"./img/fdm1.png\"     alt=\"FDM\"      width = 35%>\n",
    "      </a>\n",
    "    </td>\n",
    "    <td style=\"border: 0px solid\" width = 25%>\n",
    "      <a href=\"www.uni-freiburg.de\">\n",
    "          <img src=\"./img/uniFR.png\"    alt=\"UniFr\"    width = 20%>\n",
    "      </a>\n",
    "    </td>\n",
    "    <td style=\"border: 0px solid\" width = 25%>\n",
    "      <a href=\"\">\n",
    "          <img src=\"./img/EU.jpg\"       alt=\"EU\"       width = 30%>\n",
    "      </a>\n",
    "    </td>\n",
    "  </tr>\n",
    "</table>\n",
    "<hr>"
   ]
  },
  {
   "cell_type": "markdown",
   "metadata": {
    "Collapsed": "false",
    "tags": []
   },
   "source": [
    "# Intraindividual Dynamic Network of Affects\n",
    "## Linear Autoregressive Mixed-Effects Models for Ecological Momentary Assessment"
   ]
  },
  {
   "cell_type": "markdown",
   "metadata": {},
   "source": [
    "<hr>"
   ]
  },
  {
   "cell_type": "markdown",
   "metadata": {},
   "source": [
    "We consider very simple directed intraindividual networks comprising two mood nodes and one node for external factors. The two mood nodes interact by enhancing (blue) or dampening (red) each other and the external factors are assumed to be acting on both nodes in a one-way fashion, i.e. the possible effects of a mood on the perception of external factors are neglected. \n",
    "<div>\n",
    "<center><img src=\"./img/sympIIDE.svg\" width=\"200\"/></center>\n",
    "</div>"
   ]
  },
  {
   "cell_type": "markdown",
   "metadata": {},
   "source": [
    "Assuming intensive longitudinal data through **ecological momentary assessment**, we formalize the mathematical representation of such networks by exogenous linear autoregressive mixed-effects models such that the autoregressive coefficients represent the interactions and the external factors enter the model as exogenous covariates. We let every parameter in the model to have fixed and random components aiming at networks that are allowed to have variable structures over reasonable units of time like days or weeks depending on the study design. Given the fact that a rich theoretical and computational literature furnishes classic linear mixed-effects models, we transform the autoregressive formulation to a classical one and use the already developed methods and tools. Then assuming our model is the true data generating process, we simulate data using a predefined set of parameters and investigate the performance and feasibility of this approach in delivering reliable estimates for different choices of the number of observations and the intensity of noise."
   ]
  },
  {
   "cell_type": "markdown",
   "metadata": {
    "tags": []
   },
   "source": [
    "### How to use these notebooks?\n",
    "Assuming that you have downloaded the notebookes:\n",
    "- install Julia from [julialang.org](https://julialang.org/)\n",
    "- navigate to the directory of notebooks in `Terminal` and start `Julia`\n",
    "- the prompt at the command line will change to `julia>` indicating the REPL\n",
    "- at Julia REPL press `]` to enter package manager (prompt changes to `pkg>`) and execute the following commands\n",
    "    * `activate .`\n",
    "    * `instantiate`\n",
    "- this will install all the required packages including `IJulia` for running the notebooks\n",
    "- go back to REPL by pressing backspace and run\n",
    "    * `using IJulia` makes the package available\n",
    "    * `IJulia.notebook(dir=\".\")` starts a Jupyter dashboard on your default browser\n",
    "        - the first time you run `notebook()`, it will prompt you to install Jupyter if it is not found\n",
    "    * open `index.ipynb` in Jupyter dashboard and proceed\n",
    "    * you might need to run `using Pkg` and then `Pkg.build(\"IJulia\")` at REPL to complete the setup if you are unable to run the notebook properly\n",
    "- alternatively you can use REPL without entering the package manager. At REPL (prompt should be `julia>`) run \n",
    "    * `using Pkg`\n",
    "    * `Pkg.activate(\".\")`\n",
    "    * `Pkg.instantiate()`\n",
    "\n",
    "It is highly recommended to use a julia environment provided by `Project.toml` and `Manifest.toml` as explained earlier. However, one can proceed from scratch by adding the following packages. Then you might need to modify the code and take care of version conflicts yourselves.\n",
    "`Pkg.add([\"LinearAlgebra\", \"Random\", \"Distributions\", \"DataFrames\", \"MixedModels\", \"CSV\", \"StatsModels\", \"CategoricalArrays\", \"GLM\"])`\n",
    "\n",
    "- if you have [JupyterLab](https://jupyter.org/install) already installed\n",
    "    * run `jupyter lab` from command line to open a Jupyter dashboard in your browser\n",
    "    * open `index.ipynb` and proceed\n"
   ]
  },
  {
   "cell_type": "code",
   "execution_count": null,
   "metadata": {},
   "outputs": [],
   "source": [
    "# uncomment the followings if used\n",
    "# using Pkg\n",
    "# Pkg.activate(\"./\")\n",
    "# Pkg.instantiate()"
   ]
  },
  {
   "cell_type": "markdown",
   "metadata": {},
   "source": [
    "## Contents"
   ]
  },
  {
   "cell_type": "markdown",
   "metadata": {},
   "source": [
    "* [**Brief theory and implementation in Julia**, IPYNB](./LARMEx.ipynb)\n",
    "* [Manuscript, PDF](./manuscriptWP1EMA.pdf)"
   ]
  },
  {
   "cell_type": "markdown",
   "metadata": {},
   "source": [
    "<hr>"
   ]
  },
  {
   "cell_type": "markdown",
   "metadata": {},
   "source": [
    "#### Author\n",
    "* [Shakoor Pooseh](http://sysbio.uni-freiburg.de/spooseh/) <br>\n",
    "University of Freiburg\n",
    "\n",
    "#### Access\n",
    "- [GitHub](https://github.com/spooseh/MixedEffectsVAR) for notebooks\n",
    "- [Homepage](http://sysbio.uni-freiburg.de/spooseh/) for HTMLs\n",
    "\n"
   ]
  },
  {
   "cell_type": "markdown",
   "metadata": {
    "Collapsed": "false"
   },
   "source": [
    "<hr>\n",
    "&copy; 2022\n",
    "<a rel=\"license\" href=\"http://creativecommons.org/licenses/by/4.0/\"><img style=\"float: right\" alt=\"Creative Commons Licence\" style=\"border-width:0\" src=\"https://i.creativecommons.org/l/by/4.0/88x31.png\" /></a>"
   ]
  }
 ],
 "metadata": {
  "kernelspec": {
   "display_name": "Julia 1.8.4",
   "language": "julia",
   "name": "julia-1.8"
  },
  "language_info": {
   "file_extension": ".jl",
   "mimetype": "application/julia",
   "name": "julia",
   "version": "1.8.4"
  }
 },
 "nbformat": 4,
 "nbformat_minor": 4
}
