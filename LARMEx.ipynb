{
 "cells": [
  {
   "cell_type": "markdown",
   "id": "fb4030ff-e05e-46c6-9e21-2debe3200a0c",
   "metadata": {},
   "source": [
    "[**<< Back to first page**](./index.ipynb)"
   ]
  },
  {
   "cell_type": "markdown",
   "id": "ab0791e2-662c-4e0e-a14e-f6484dda311d",
   "metadata": {},
   "source": [
    "## Data generating process"
   ]
  },
  {
   "cell_type": "markdown",
   "id": "cc2b462f-114c-44e5-81f7-fc5b121c72cc",
   "metadata": {
    "tags": []
   },
   "source": [
    "Let $m_{i,t}=[m_1,m_2]^T_{i,t}$ be the $2 \\times 1$ vector corresponding to the mood values from the $i$th day at any observation occasion $t=1,2,\\ldots,n_i$ where $n_i$ is the number of observations per day and $T$ denotes the transpose of a matrix.\n",
    "\n",
    "Assuming that a collection of external factors (E) influence moods and their effect could vary between days, the evolution of $m_{i,t}$ is represented by a LARMEx model as\n",
    "$$\n",
    "m_{i,t} = (\\beta^{ar}+b^{ar}_i)m_{i,t-1} + (\\beta^e+b^e_i)e_{i,t} + (\\beta^c+b^c_i) + \\epsilon_{i,t},\n",
    "$$\n",
    "in which $\\beta$ and $b$ represent the fixed and random effects (FE and RE henceforth). The temporal (Granger-causal) connections\n",
    "between the moods are governed by the lag(1) autoregressive term, $(\\beta^{ar}+b^{ar}_i)m_{i,t-1}$. The remaining terms represent the contemporaneous effects of E and the constants (intercepts). For simplicity, we assume no connections from moods to E. "
   ]
  },
  {
   "cell_type": "markdown",
   "id": "c8751c4d-6577-4568-81b9-0367e370384e",
   "metadata": {},
   "source": [
    "## Generating a set of known parameters"
   ]
  },
  {
   "cell_type": "markdown",
   "id": "9a3a5671-9be2-4c04-be6e-dcb07d10c8fe",
   "metadata": {},
   "source": [
    "For simulating data with this model, we need to specify the parameters. To achieve \n",
    "replicability, one can predefine a random number generator (RNG). In Julia, we \n",
    "implement this using the following `struct`.\n",
    "```Julia\n",
    "mutable struct parLARMEx\n",
    "    nAR::Int              # number of temporally connected nodes\n",
    "    rng::AbstractRNG      # RNG throught the simulation for consintency\n",
    "    nL2Max::Int           # how many random-effects to generate\n",
    "    nSamp::Int            # sample size for generating REs, see genRE_CS()\n",
    "    B_AR::Matrix{Float64} # fixed-effects autoregressive coefficients\n",
    "    B_E::Vector{Float64}  # fixed-effects coefficients of exogenous factors\n",
    "    b_var::Matrix{Float64}# variance of group of random-effects\n",
    "    b_cov::Matrix{Float64}# variance-covariance matrix of random-effects\n",
    "    b_ar::Matrix{Float64} # random-effects for autoregressive coefficients\n",
    "    b_e::Matrix{Float64}  # random-effects for exogenous coefficients\n",
    "    b_c::Matrix{Float64}  # random-effects for constant terms\n",
    "end\n",
    "```"
   ]
  },
  {
   "cell_type": "markdown",
   "id": "7265ba9c-a171-468f-8410-52f4c52b53b1",
   "metadata": {},
   "source": [
    "To generate instances of this `struct`, a constructor is implemented as\n",
    "```Julia\n",
    "parLARMEx(;b=[], nVar=2, rng=MersenneTwister(), nL2Max=100,  \n",
    "           nSamp=20000, B_ar=.3, B_e=.3, b_var=[.03 .03 .03]) \n",
    "```\n",
    "where the keyword arguments are:"
   ]
  },
  {
   "cell_type": "markdown",
   "id": "ee179134-bdfb-4c4b-96a5-38adeb85ae37",
   "metadata": {},
   "source": [
    "- `b = []`: if provided with a matrix, RE are extracted from it otherwise generated\n",
    "- `nVar = 2`: number of temporally connected nodes  \n",
    "- `rng = MersseneTwister()`: left out, a `MersenneTwister` RNG\n",
    "\tis produced anew, otherwise a custom one should be provide for consistency and \n",
    "\treplication\n",
    "- `nL2Max = 100`: how many RE to generate\n",
    "- `nSamp = 20000`: initial sample size for generating RE, see genRE_CS() for explanation\n",
    "- `B_ar = .3`: absolute value of FE autoregressive coefficients, `= []` for random values between 0.1 and 0.6\n",
    "- `B_e = .3`: absolute value of FE exogenous coefficients, `= []` for random values between 0.1 and 0.6\n",
    "- `b_var = [.03 .03 .03]`: for constructing a default variance-covariance of RE "
   ]
  },
  {
   "cell_type": "markdown",
   "id": "d1cd789a-4c49-4f13-875f-9c3863ca662a",
   "metadata": {},
   "source": [
    "For simplicity we restrict the fixed-effects to be\n",
    "\n",
    "$$\n",
    "\\beta^{ar}=\\begin{bmatrix}0.3 & -0.3\\\\-0.3 &  0.3\\end{bmatrix}, \\quad \n",
    "\\beta^{e}=\\begin{bmatrix} 0.3\\\\ -0.3 \\end{bmatrix}, \\quad \n",
    "\\beta^{c}=\\begin{bmatrix} 0\\\\ 0 \\end{bmatrix} \n",
    "$$\n",
    "\n",
    "These matrices  are generated using keyword arguments to the constructor of `parLARMEx`. It is also possible to initialize these with random values by passing `[]`. \n",
    "The variance-covariance of the random-effects is built using `b_var` to be\n"
   ]
  },
  {
   "cell_type": "markdown",
   "id": "fe1fc1a1-bf56-4aef-a20d-6b27429a959f",
   "metadata": {},
   "source": [
    "\\begin{equation*}\n",
    "G =  \\begin{bmatrix}\n",
    "0.03&0&0&0&0&0&0&0\\\\\n",
    "0&0.03&0&0&0&0&0&0\\\\\n",
    "0&0&0.03&0&0&0&0&0\\\\\n",
    "0&0&0&0.03&0&0&0&0\\\\\n",
    "0&0&0&0&0.03&0&0&0\\\\\n",
    "0&0&0&0&0&0.03&0&0\\\\\n",
    "0&0&0&0&0&0&0.03&0\\\\\n",
    "0&0&0&0&0&0&0&0.03 \n",
    "\\end{bmatrix}\n",
    "\\end{equation*}"
   ]
  },
  {
   "cell_type": "markdown",
   "id": "8819a8dd-80b2-4487-8284-12c2fccf28af",
   "metadata": {},
   "source": [
    "This is not the final variance-covariance of the RE because one needs to control for the stability of the autoregressive process. To this end, we sample a numger of `nSamp = 20000` sets from a multivariate normal distribution of $ MVN(0,G) $ and retain `nL2Max = 100` sets for which the absoloute eigenvalues of $ \\beta^{ar}+b^{ar} $ are less than one. These are stored in `b_ar`, `b_e`, `b_c`, and the variance-covariance of this latter sample as `b_cov`. "
   ]
  },
  {
   "cell_type": "markdown",
   "id": "66db10d1-a7b4-447e-99db-d937ff4904bf",
   "metadata": {},
   "source": [
    "This process is accomplished by calling the function \n",
    "```Julia\n",
    "genRE_CS(rng,G,B_AR,maxSbj,nSamp) \n",
    "```\n",
    "inside the constructor which updates the fields corresponding to the random-effects and their variance-covariance structure. In what follows we import the function definitions saved at the file `helperSim.jl`, included in the appendix, and then construct the parameters using a replicable RNG."
   ]
  },
  {
   "cell_type": "code",
   "execution_count": 1,
   "id": "c93cdcdb-96c4-47ef-b97e-3f92d4c96c45",
   "metadata": {},
   "outputs": [],
   "source": [
    "include(\"helperSim.jl\");"
   ]
  },
  {
   "cell_type": "code",
   "execution_count": 2,
   "id": "808dd7cc-c5ff-4366-9557-18277e2be8e7",
   "metadata": {},
   "outputs": [],
   "source": [
    "rng = MersenneTwister(1984)\n",
    "par = parLARMEx(rng=rng);"
   ]
  },
  {
   "cell_type": "markdown",
   "id": "90bb7949-a751-4b1a-916c-aea04f0dabd5",
   "metadata": {},
   "source": [
    "## Generating data"
   ]
  },
  {
   "cell_type": "markdown",
   "id": "e35cc6a4-e8ec-468e-9756-57688553097c",
   "metadata": {},
   "source": [
    "We assume that the data generating process has a two-level structure. The multiple observations are made on level I and these are nested in level II units. For EMA data, level I could be the daily observations, as many as `nObsL1`, which are nested in single days with a total number of `nL2`. These characteristics together with the varianc-covariance of noise, `sigma`, initial values for days, `S0`, and the vector of known exogenous factors, `E`, are stored in another `struct`. \n",
    "```Julia\n",
    "mutable struct simLARMEx\n",
    "    nAR::Int              # number of temporally connected nodes\n",
    "    nObsL1::Int           # number of observation on level I            \n",
    "    nL2::Int              # number of units on level II\n",
    "    sigma::Float64        # variance of noise\n",
    "    M0::Matrix{Float64}   # initial values each day\n",
    "    E::Vector{Float64}    # known exogenous factors\n",
    "end\n",
    "```\n",
    "The constructor of this `struct` has the following signature,\n",
    "```Julia\n",
    "simLARMEx(;rng=MersenneTwister(), nObsL1=10, nL2=36, sigma=.2, M0_max=.5, E=[])\n",
    "```\n",
    "and keyword arguments as: "
   ]
  },
  {
   "cell_type": "markdown",
   "id": "8b85d2b6-9d5c-4a86-b5de-5715337ecd2f",
   "metadata": {},
   "source": [
    "- `rng = MersenneTwister()`: feed `parLARMEx.rng` for consistency and replication, initialized anew by default\n",
    "- `nObsL1 = 10`: number of observation on level I \n",
    "- `nL2 = 36`: number of units on level II\n",
    "- `sigma = .02`: variance of noise \n",
    "- `M0_max = .5`: determines the amplitude of initial values and exogenous factors, 0.5 to keep trajectories mostly in [-1,1]\n",
    "- `E = []`: known exogenous factors of size [`nL2` x `nObsL1`], drawn randomly from [`0`, `M0_max`] by default"
   ]
  },
  {
   "cell_type": "markdown",
   "id": "dae025c2-19c8-4ea6-ab6f-12443f65e8ee",
   "metadata": {},
   "source": [
    "The following code snippet setts up the configuration of the desired data set. The RNG is carried over to perovide replicablity. Finally, `genData()` gives the simulated data along with the noiseless data as dataframes and the signal-to-noise-ratio (SNR). "
   ]
  },
  {
   "cell_type": "code",
   "execution_count": 3,
   "id": "dc88f75e-b22c-4427-a0b5-26aaf84b5430",
   "metadata": {},
   "outputs": [],
   "source": [
    "sim = simLARMEx(rng=par.rng);\n",
    "simData, simData0, SNR = genData(par, sim);"
   ]
  },
  {
   "cell_type": "code",
   "execution_count": 4,
   "id": "687f7557-a45c-4a32-a17a-d80fa09a4b04",
   "metadata": {},
   "outputs": [
    {
     "name": "stdout",
     "output_type": "stream",
     "text": [
      "\u001b[1m5×5 DataFrame\u001b[0m\n",
      "\u001b[1m Row \u001b[0m│\u001b[1m idL2  \u001b[0m\u001b[1m tL1   \u001b[0m\u001b[1m M1         \u001b[0m\u001b[1m M2        \u001b[0m\u001b[1m E        \u001b[0m\n",
      "     │\u001b[90m Int64 \u001b[0m\u001b[90m Int64 \u001b[0m\u001b[90m Float64    \u001b[0m\u001b[90m Float64   \u001b[0m\u001b[90m Float64  \u001b[0m\n",
      "─────┼───────────────────────────────────────────────\n",
      "   1 │     1      1  -0.0714286   0.438776  0.265306\n",
      "   2 │     1      2  -0.0271097   0.1977    0.489796\n",
      "   3 │     1      3   0.204667    0.083435  0.193878\n",
      "   4 │     1      4   0.30021    -0.039331  0.234694\n",
      "   5 │     1      5   0.193203   -0.165018  0.255102"
     ]
    }
   ],
   "source": [
    "show(first(simData,5),allcols=true)\n",
    "# latexify(round.(simData[1:5,:],digits=2))"
   ]
  },
  {
   "cell_type": "markdown",
   "id": "dfa8aadf-a698-4784-a2c6-4616101b50a3",
   "metadata": {},
   "source": [
    "The returned values are"
   ]
  },
  {
   "cell_type": "markdown",
   "id": "3f154437-f355-4959-9177-381a56330217",
   "metadata": {},
   "source": [
    "- `simData`: the simulated data according to the setup so far\n",
    "- `simData0`: the simulated data without the noise component used to calculate the SNR\n",
    "- `SNR`: the ratio of the variance of noiseless data to that of noise"
   ]
  },
  {
   "cell_type": "markdown",
   "id": "62b69534-9f86-4c04-b651-d997802b6dc1",
   "metadata": {},
   "source": [
    "## Transforming to classical mixed-effects model"
   ]
  },
  {
   "cell_type": "markdown",
   "id": "b83e673b-4f24-4f19-8452-4052e761a6dc",
   "metadata": {},
   "source": [
    "By stacking mood values, parameters and covariates for every day separately, and forming the design matrices\n",
    "for fixed and random effects, $X$ and $Z$, data from a single day takes the following matrix form which is \n",
    "equivalent to a linear mixed effects formulation.\n",
    "$$\n",
    "Y_i = X_i\\beta + Z_i b_i + \\epsilon_i\n",
    "$$"
   ]
  },
  {
   "cell_type": "markdown",
   "id": "f2cd871a-31a3-4189-9ebc-ce5446c69b3e",
   "metadata": {},
   "source": [
    "In this formulation for a network of two moods and one external nodes one has\n",
    "\n",
    "$$\n",
    "Y_i = \\begin{bmatrix}\n",
    "m_{1,1} & m_{1,2} & \\ldots & m_{1,n_i} & m_{2,1} & m_{2,2} & \\ldots & m_{2,n_i}\n",
    "\\end{bmatrix}^T_i,\n",
    "$$\n",
    "$$\n",
    "\\beta = \\begin{bmatrix}\n",
    "\\beta_{11}   & \\beta_{12}   & \\beta_{21}   & \\beta_{22} & \\beta^{e}_1 &\n",
    "\\beta^{e}_2 &   \\beta^{c}_1 & \\beta^{c}_2\n",
    "\\end{bmatrix}^T,\n",
    "$$\n",
    "and"
   ]
  },
  {
   "cell_type": "markdown",
   "id": "d1fc355f-8057-43cc-a5f0-1b49a5c1cbf7",
   "metadata": {},
   "source": [
    "$$\n",
    "X_i = Z_i = \\begin{bmatrix}\n",
    "m_{1,0}     & m_{2,0}     & 0           & 0           & 1 & e_1     & 0 & 0 \\\\\n",
    "m_{1,1}     & m_{2,1}     & 0           & 0           & 1 & e_2     & 0 & 0 \\\\\n",
    "\\vdots      & \\vdots      &             &             &   & \\vdots  &   &   \\\\\n",
    "m_{1,n_i-1} & m_{2,n_i-1} & 0           & 0           & 1 & e_{n_i} & 0 & 0 \\\\\n",
    "0           & 0           & m_{1,0}     & m_{2,0}     & 0 & 0       & 1 & e_1 \\\\\n",
    "0           & 0           & m_{1,1}     & m_{2,1}     & 0 & 0       & 1 & e_2\\\\\n",
    "\\vdots      & \\vdots      & \\vdots      & \\vdots      &   &         &   & \\vdots\\\\\n",
    "0           & 0           & m_{1,n_i-1} & m_{2,n_i-1} & 0 & 0       & 1 & e_{n_i}\n",
    "\\end{bmatrix}\n",
    "$$"
   ]
  },
  {
   "cell_type": "markdown",
   "id": "618c180c-b8a9-4cdb-85d3-ed281e20dcca",
   "metadata": {},
   "source": [
    "In its general form, the above equation for $k$ moods, $Y_i$ is a $k(n_i-1) \\times 1$\n",
    "vector of mood values, $\\beta$ is a $(k^2+2k) \\times 1$ vector of fixed effects, $b_i$ is a\n",
    "$(k^2+2k) \\times 1$ vector of random effects, $X_i$ and $Z_i$ are $k(n_i-1) \\times (k^2+2k)$\n",
    "design matrices. The random effects $b_i$ and  residuals $\\epsilon_i$ are assumed to be independent with\n",
    "a multivariate normal (MVN) distribution of \n",
    "$$\n",
    "\\begin{bmatrix} b_i \\\\ \\epsilon_i \\end{bmatrix}  \\sim MVN\\left(\n",
    "\\begin{bmatrix} {0} \\\\ {0} \\end{bmatrix},\n",
    "\\begin{bmatrix} G & {0} \\\\ {0} & \\Sigma_i \\end{bmatrix}\\right).\n",
    "$$  "
   ]
  },
  {
   "cell_type": "markdown",
   "id": "8e2b59b0-bb85-46be-a7cf-043b9ba8fced",
   "metadata": {},
   "source": [
    "This step is done by the following function which gives another dataframe suitable for performing the estimation. Here, it is possible to introduce missing values to the analysis, e.g. `miss = .2` for a 20% of missing values at random. By default, it is assumed that there is no missing values, `miss = 0`.\n",
    "```Julia\n",
    "prepData2Fit(rawData, idL2, endList, exgList; miss=0)\n",
    "```\n",
    "with the following arguments:"
   ]
  },
  {
   "cell_type": "markdown",
   "id": "efc0f9dc-cd35-41bf-938d-83d1f5e9961f",
   "metadata": {},
   "source": [
    "- `rawData`: the simulated data as a dataframe\n",
    "- `idL2`: the column name for level II units, e.g., an id for each day, `\"idL2\"` here\n",
    "- `endList`: the list of temporelly connected moods, `[\"M1\",\"M2\"]` here\n",
    "- `exgList`: the list of exogenous factors together with the constant terms, `[\"E\",\"C\"]` here \n",
    "- `miss`: the ratio of missing values, defaults to zero"
   ]
  },
  {
   "cell_type": "code",
   "execution_count": 6,
   "id": "515976a0-7094-4151-9b00-819886f2b375",
   "metadata": {},
   "outputs": [
    {
     "name": "stdout",
     "output_type": "stream",
     "text": [
      "\u001b[1m5×11 DataFrame\u001b[0m\n",
      "\u001b[1m Row \u001b[0m│\u001b[1m idL2 \u001b[0m\u001b[1m tL1   \u001b[0m\u001b[1m M          \u001b[0m\u001b[1m M11        \u001b[0m\u001b[1m M12       \u001b[0m\u001b[1m M21      \u001b[0m\u001b[1m M22      \u001b[0m\u001b[1m E1       \u001b[0m\u001b[1m E2       \u001b[0m\u001b[1m C1       \u001b[0m\u001b[1m C2       \u001b[0m\n",
      "     │\u001b[90m Cat… \u001b[0m\u001b[90m Int16 \u001b[0m\u001b[90m Float64?   \u001b[0m\u001b[90m Float64?   \u001b[0m\u001b[90m Float64?  \u001b[0m\u001b[90m Float64? \u001b[0m\u001b[90m Float64? \u001b[0m\u001b[90m Float64? \u001b[0m\u001b[90m Float64? \u001b[0m\u001b[90m Float64? \u001b[0m\u001b[90m Float64? \u001b[0m\n",
      "─────┼────────────────────────────────────────────────────────────────────────────────────────────────────────────\n",
      "   1 │ 1         2  -0.0271097  -0.0714286   0.438776      -0.0       0.0  0.489796       0.0       1.0       0.0\n",
      "   2 │ 1         3   0.204667   -0.0271097   0.1977        -0.0       0.0  0.193878       0.0       1.0       0.0\n",
      "   3 │ 1         4   0.30021     0.204667    0.083435       0.0       0.0  0.234694       0.0       1.0       0.0\n",
      "   4 │ 1         5   0.193203    0.30021    -0.039331       0.0      -0.0  0.255102       0.0       1.0       0.0\n",
      "   5 │ 1         6   0.649712    0.193203   -0.165018       0.0      -0.0  0.489796       0.0       1.0       0.0"
     ]
    }
   ],
   "source": [
    "fitData = prepData2Fit(simData, rng, \"idL2\", [\"M1\",\"M2\"], [\"E\",\"C\"]);\n",
    "show(first(fitData,5),allcols=true)"
   ]
  },
  {
   "cell_type": "code",
   "execution_count": 8,
   "id": "be8639db-1199-4668-87a9-e0a78721cb61",
   "metadata": {},
   "outputs": [],
   "source": [
    "# df = fitData[1:5,:]; df[:,3:end] = round.(df[:,3:end],digits=2);\n",
    "# latexify(df)"
   ]
  },
  {
   "cell_type": "markdown",
   "id": "76b9190a-2fd4-4c94-a9fb-18ae5a04768f",
   "metadata": {},
   "source": [
    "## Setting up the formula for fitting"
   ]
  },
  {
   "cell_type": "markdown",
   "id": "46e58d2f-de91-4346-950b-2efb9fb7d864",
   "metadata": {},
   "source": [
    "The prepared data has more columns representing the response variable `M`, and the predictors including the connections in the network `M11, M12, M21, M22, E1, E2`, as well as the constant terms `C1, C2`. It also contains the level I time points `tL1`, and the level II identifiers `idL2`. We provide a function\n",
    "```Julia\n",
    "setFormula(fitData)\n",
    "```\n",
    "which constructs the formula suitable to feed in the Julia package [MixedModels.jl](https://juliastats.org/MixedModels.jl/stable/). This function is restricted only to a dataframe which has the exact columns as shown above."
   ]
  },
  {
   "cell_type": "code",
   "execution_count": 7,
   "id": "0ff0c5d8-7aa7-4ded-862a-122472abfbce",
   "metadata": {},
   "outputs": [
    {
     "data": {
      "text/plain": [
       "FormulaTerm\n",
       "Response:\n",
       "  M(unknown)\n",
       "Predictors:\n",
       "  0\n",
       "  M11(unknown)\n",
       "  M12(unknown)\n",
       "  M21(unknown)\n",
       "  M22(unknown)\n",
       "  E1(unknown)\n",
       "  E2(unknown)\n",
       "  (M11,M12,M21,M22,E1,E2,C1,C2,idL2)->(0 + M11 + M12 + M21 + M22 + E1 + E2 + C1 + C2) | idL2"
      ]
     },
     "metadata": {},
     "output_type": "display_data"
    }
   ],
   "source": [
    "frm = setFormula(fitData)"
   ]
  },
  {
   "cell_type": "markdown",
   "id": "ebac64f0-4bc9-4de7-8330-74f3cffa2ba4",
   "metadata": {},
   "source": [
    "## Fitting"
   ]
  },
  {
   "cell_type": "markdown",
   "id": "0349233e-2108-412b-98a9-c5759a2868b5",
   "metadata": {},
   "source": [
    "We use the [MixedModels.jl](https://juliastats.org/MixedModels.jl/stable/) package in Julia to perform the estimation. It is similar to the [lme4](https://github.com/lme4/lme4) in R but exhibits faster performance in our case. "
   ]
  },
  {
   "cell_type": "code",
   "execution_count": 8,
   "id": "ba764778-bae3-4fe4-87ea-5424aaf19ab1",
   "metadata": {},
   "outputs": [
    {
     "name": "stdout",
     "output_type": "stream",
     "text": [
      "Linear mixed model fit by REML\n",
      " "
     ]
    },
    {
     "name": "stdout",
     "output_type": "stream",
     "text": [
      "M ~ 0 + M11 + M12 + M21 + M22 + E1 + E2 + (0 + M11 + M12 + M21 + M22 + E1 + E2 + C1 + C2 | idL2)\n",
      " REML criterion at convergence: -468.8576565442459\n",
      "\n"
     ]
    },
    {
     "name": "stdout",
     "output_type": "stream",
     "text": [
      "Variance components:\n",
      "         ColumnVariance Std.Dev.   Corr.\n",
      "idL2     M11  0.019478 0.139563\n",
      "         M12  0.069804 0.264205 +0.25\n",
      "         M21  0.028548 0.168961 -0.47 +0.60\n",
      "         M22  0.051129 0.226118 -0.72 +0.03 +0.25\n",
      "         E1   0.028903 0.170009 +0.48 +0.26 -0.10 -0.56\n",
      "         E2   0.022133 0.148771 +0.77 +0.56 -0.04 -0.44 +0.26\n",
      "         C1   0.032112 0.179197 -0.12 +0.20 +0.36 -0.16 +0.38 -0.45\n",
      "         C2   0.031712 0.178080 +0.30 +0.05 -0.18 -0.12 -0.33 -0.04 +0.34\n",
      "Residual      0.017535 0.132421\n",
      " Number of obs: 648; levels of grouping factors: "
     ]
    },
    {
     "name": "stdout",
     "output_type": "stream",
     "text": [
      "36\n",
      "\n",
      "  Fixed-effects parameters:\n"
     ]
    },
    {
     "name": "stdout",
     "output_type": "stream",
     "text": [
      "───────────────────────────────────────────\n",
      "         Coef.  Std. Error      z  Pr(>|z|)\n",
      "───────────────────────────────────────────\n"
     ]
    },
    {
     "name": "stdout",
     "output_type": "stream",
     "text": [
      "M11   0.159073   0.0445327   3.57    0.0004\n",
      "M12  -0.48537    0.0606019  -8.01    <1e-14\n",
      "M21  -0.28228    0.0465415  -6.07    <1e-08\n",
      "M22   0.332441   0.0565884   5.87    <1e-08\n",
      "E1    0.393878   0.0592017   6.65    <1e-10\n",
      "E2   -0.254242   0.0544601  -4.67    <1e-05\n",
      "───────────────────────────────────────────"
     ]
    }
   ],
   "source": [
    "fit = MixedModels.fit(MixedModel, frm, fitData, REML=true, progress=false);\n",
    "show(fit)"
   ]
  },
  {
   "cell_type": "markdown",
   "id": "ae927145",
   "metadata": {},
   "source": [
    "The following parameters have been estimated. It is evident that the network's structure, \n",
    "with regard to the type of connections, has been accurately reconstructed. However, the \n",
    "precision of the coefficient estimations is not optimal.\n",
    "$$\n",
    "\\hat{\\beta}^{ar}=\\begin{bmatrix}0.16 & -0.48\\\\-0.28 &  0.34\\end{bmatrix}, \\quad \n",
    "\\hat{\\beta}^{e}=\\begin{bmatrix} 0.39\\\\ -0.25 \\end{bmatrix}, \\quad \n",
    "$$"
   ]
  },
  {
   "cell_type": "markdown",
   "id": "be7d1f45-c7fc-4398-866f-a3c2716c9784",
   "metadata": {},
   "source": [
    "## Parameter recovery"
   ]
  },
  {
   "cell_type": "markdown",
   "id": "481baa44-30a7-45e7-b817-67c951ae6b98",
   "metadata": {},
   "source": [
    "In order to assess how well one can recover the parameters, we generate data with the following specifications:"
   ]
  },
  {
   "cell_type": "markdown",
   "id": "b7163273-322a-4bd7-a646-d19e50302f47",
   "metadata": {},
   "source": [
    "- number of observations per day: $10$\n",
    "- $(\\sigma^2,\\text{SNR})\\in\\{(0.01,12),(0.02,6),(0.06,2)\\}$\n",
    "- number of days, $N \\in \\{4,6,\\ldots,36\\}$\n",
    "- $\\beta^{ar}$, $\\beta^{e}$ and $\\beta^{c}$ as before\n",
    "- data is generated for one simulated subject 1000 times\n",
    "- at each iteration new random effects are used"
   ]
  },
  {
   "cell_type": "markdown",
   "id": "4c882e62-d93c-4dee-a08d-bc3a1eb3d33d",
   "metadata": {},
   "source": [
    "This can be done using the script `simBootstrap.jl`. It uses the followint function to generate data in a loop. \n",
    "```Julia\n",
    "loopSim(csvDir, M0_max, sigma, n, P)\n",
    "```\n",
    "The function creates a folder named `csvDir` and for each noise intensity, `sigma`, saves the true and estimated parameters of each simulation in different folders, `re` and `reh`, based on the number of days as `CSV` files. Fixed effects and the variances of random effects are collected in two separate `CSV` files."
   ]
  },
  {
   "cell_type": "markdown",
   "id": "6fd7b4cd-ca96-4685-a8c1-48c653eec9ab",
   "metadata": {},
   "source": [
    "The code could take some time, depending on the computational power. Using the estimated parameters we construct bootstrap confidence intervals for the fixed effects and the variance of random effects. "
   ]
  },
  {
   "cell_type": "markdown",
   "id": "a0e2bf23",
   "metadata": {},
   "source": [
    "\\includegraphics[width=\\textwidth,center]{feCI} % used for the latex output of this document"
   ]
  },
  {
   "cell_type": "markdown",
   "id": "a127bb78-3f69-4739-8ce4-221e0540e1ec",
   "metadata": {},
   "source": [
    "<div>\n",
    "<center><img src=\"./img/feCI.svg\" width=\"800\"/></center>\n",
    "</div>"
   ]
  },
  {
   "cell_type": "markdown",
   "id": "b4016fc6-e77f-4efd-bd4f-3ae7723a18b3",
   "metadata": {},
   "source": [
    "The number of observations per day is $10$. True values of parameters are highlighted bold on x axes. For every number of days at the horizontal axes, three lines are drawn representing the bootstrap $95\\%$ confidence intervals around the median depicted by cross signs. Every line is color-coded to demonstrate one noise intensity. Data has been generated for one simulated subject, 1000 times repeatedly, with $(\\sigma^2,\\text{SNR})\\in\\{(0.01,12),(0.02,6),(0.06,2)\\}$."
   ]
  },
  {
   "cell_type": "markdown",
   "id": "7c984f10-75e4-402b-ad7b-55d4eb71e122",
   "metadata": {},
   "source": [
    "\\includegraphics[width=\\textwidth,center]{sigCI} % used for the latex output of this document"
   ]
  },
  {
   "cell_type": "markdown",
   "id": "6df74d2b-db14-4ffc-b2f9-9c1621ee0234",
   "metadata": {},
   "source": [
    "<div>\n",
    "<center><img src=\"./img/sigCI.svg\" width=\"800\"/></center>\n",
    "</div>"
   ]
  },
  {
   "cell_type": "markdown",
   "id": "9ce16023-d770-406d-b00d-ff0c5820af58",
   "metadata": {},
   "source": [
    "True values of parameters are highlighted bold on x axes, $\\sqrt{0.03}\\approx 0.17$."
   ]
  },
  {
   "cell_type": "markdown",
   "id": "fbe6b5d0-93cf-4c94-997c-c0d105e9f442",
   "metadata": {},
   "source": [
    "For further analyses please refer to our manuscript."
   ]
  },
  {
   "cell_type": "markdown",
   "id": "ddda623a-d67b-439c-b2e6-e1568fc49b67",
   "metadata": {},
   "source": [
    "## Conclusion"
   ]
  },
  {
   "cell_type": "markdown",
   "id": "3e5fb4c9-4bbc-4495-8ab7-f0e24211b405",
   "metadata": {},
   "source": [
    "We presented an extension of linear mixed-effects models by adding an \n",
    "autoregressive component to model the network representation of mental \n",
    "state. Specifically, we assumed a simple network of two causally \n",
    "interacting moods under the unidirectional influence of an external-factors \n",
    "node. This framework is suitable for intensive longitudinal data. \n",
    "\n",
    "We showed briefly how this representation is mathematically formulated and \n",
    "detailed the implementation of such a model in Julia. Please refer to `demo.jl` \n",
    "for a clean and detailed implementation a simple estimation. We also provided \n",
    "exemplary code for performing a bootstrap analysis to construct confidence \n",
    "intervals for the estimations. The goal here was to calibrate the model through \n",
    "simulations by quantifying the estimation errors. Further work is needed to \n",
    "perform the calibration and validation using real data.  \n",
    "\n",
    "In this text, we mainly discussed the number of observations per subject \n",
    "by adding more days for a specific intensity of noise in data. However, \n",
    "it would be straightforward to modify the provided code to simulate \n",
    "data for other real-world circumstances."
   ]
  }
 ],
 "metadata": {
  "kernelspec": {
   "display_name": "Julia 1.9.3",
   "language": "julia",
   "name": "julia-1.9"
  },
  "language_info": {
   "file_extension": ".jl",
   "mimetype": "application/julia",
   "name": "julia",
   "version": "1.9.3"
  }
 },
 "nbformat": 4,
 "nbformat_minor": 5
}
