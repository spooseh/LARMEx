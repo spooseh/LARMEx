{
 "cells": [
  {
   "cell_type": "markdown",
   "id": "fb4030ff-e05e-46c6-9e21-2debe3200a0c",
   "metadata": {},
   "source": [
    "[**<< Back to first page**](./index.ipynb)"
   ]
  },
  {
   "cell_type": "markdown",
   "id": "ab0791e2-662c-4e0e-a14e-f6484dda311d",
   "metadata": {},
   "source": [
    "## Data generating process"
   ]
  },
  {
   "cell_type": "markdown",
   "id": "cc2b462f-114c-44e5-81f7-fc5b121c72cc",
   "metadata": {
    "tags": []
   },
   "source": [
    "Let $m_{i,t}=[m_1,m_2]^T_{i,t}$ be the $2 \\times 1$ vector corresponding to the mood values from the $i$th day at any observation occasion $t=1,2,\\ldots,n_i$ where $n_i$ is the number of observations per day and $T$ denotes the transpose of a matrix.\n",
    "\n",
    "Assuming that a collection of external factors (E) act on mood nodes and their effect could vary between days, the evolution of $m_{i,t}$ is represented by a LARMEx model as\n",
    "$$\n",
    "m_{i,t} = (\\beta^{ar}+b^{ar}_i)m_{i,t-1} + (\\beta^e+b^e_i)e_{i,t} + (\\beta^c+b^c_i) + \\epsilon_{i,t},\n",
    "$$\n",
    "in which $\\beta$ and $b$ represent the fixed and random effects (FE and RE henceforth). The temporal (Granger-causal) connections\n",
    "between the moods are governed by the lag(1) autoregressive term, $(\\beta^{ar}+b^{ar}_i)m_{i,t-1}$. The remaining terms represent the contemporaneous effects of E and the constants (intercepts). For simplicity, we assume no connections from moods to E. "
   ]
  },
  {
   "cell_type": "markdown",
   "id": "c8751c4d-6577-4568-81b9-0367e370384e",
   "metadata": {},
   "source": [
    "## Generating a set of known parameters"
   ]
  },
  {
   "cell_type": "markdown",
   "id": "9a3a5671-9be2-4c04-be6e-dcb07d10c8fe",
   "metadata": {},
   "source": [
    "For simulating data with this model we need to specify the parameters. In Julia, we implement this using a `struct`.\n",
    "```Julia\n",
    "mutable struct parLARMEx\n",
    "    nAR::Int              # number of temporally connected nodes\n",
    "    seed::Int             # integer to replicate, 0 to initialize RNG anew\n",
    "    rng::AbstractRNG      # RNG throught the simulation for consintency\n",
    "    nL2Max::Int           # how many random-effects to generate\n",
    "    nSamp::Int            # sample size for generating REs, see genRE_CS()\n",
    "    B_AR::Matrix{Float64} # fixed-effects autoregressive coefficients\n",
    "    B_E::Vector{Float64}  # fixed-effects coefficients of exogenous factors\n",
    "    b_var::Matrix{Float64}# variance of group of random-effects\n",
    "    b_cov::Matrix{Float64}# variance-covariance matrix of random-effects\n",
    "    b_ar::Matrix{Float64} # random-effects for autoregressive coefficients\n",
    "    b_e::Matrix{Float64}  # random-effects for exogenous coefficients\n",
    "    b_c::Matrix{Float64}  # random-effects for constant terms\n",
    "end\n",
    "```"
   ]
  },
  {
   "cell_type": "markdown",
   "id": "7265ba9c-a171-468f-8410-52f4c52b53b1",
   "metadata": {},
   "source": [
    "For the initialization of this `struct` we implement its constructor as\n",
    "```Julia\n",
    "parLARMEx(;b=[], nVar=2, seed=0, nL2Max=100, nSamp=20000, B_ar=.3, B_e=.3, \n",
    "           b_var=[.03 .03 .03]) \n",
    "```\n",
    "where the keyword arguments are:"
   ]
  },
  {
   "cell_type": "markdown",
   "id": "ee179134-bdfb-4c4b-96a5-38adeb85ae37",
   "metadata": {},
   "source": [
    "- `b = []`: if provided with a matrix, RE are extracted from it otherwise generated\n",
    "- `nVar = 2`: number of temporally connected nodes  \n",
    "- `seed = 0`: an integer to replicate, 0 to initialize the random number generator (RNG) anew\n",
    "- `nL2Max = 100`: how many RE to generate\n",
    "- `nSamp = 20000`: initial sample size for generating RE, see genRE_CS() for explanation\n",
    "- `B_ar = .3`: absolute value of FE autoregressive coefficients, `= []` for random values between 0.1 and 0.6\n",
    "- `B_e = .3`: absolute value of FE exogenous coefficients, `= []` for random values between 0.1 and 0.6\n",
    "- `b_var = [.03 .03 .03]`: for constructing a default variance-covariance of RE "
   ]
  },
  {
   "cell_type": "markdown",
   "id": "d1cd789a-4c49-4f13-875f-9c3863ca662a",
   "metadata": {},
   "source": [
    "For simplicity we restrict the fixed-effects to be\n",
    "\n",
    "$$\n",
    "\\beta^{ar}=\\begin{bmatrix}0.3 & -0.3\\\\-0.3 &  0.3\\end{bmatrix}, \\quad \n",
    "\\beta^{e}=\\begin{bmatrix} 0.3\\\\ -0.3 \\end{bmatrix}, \\quad \n",
    "\\beta^{c}=\\begin{bmatrix} 0\\\\ 0 \\end{bmatrix}, \n",
    "$$\n",
    "\n",
    "which are generated using keyword arguments to the constructor of `parLARMEx`. It is also possible to initialize these with random values by passing `[]`. \n",
    "The variance-covariance of the random-effects is built using `b_var` to be\n"
   ]
  },
  {
   "cell_type": "markdown",
   "id": "fe1fc1a1-bf56-4aef-a20d-6b27429a959f",
   "metadata": {},
   "source": [
    "$$\n",
    "G =  \\begin{bmatrix}\n",
    "0.03&0&0&0&0&0&0&0\\\\\n",
    "0&0.03&0&0&0&0&0&0\\\\\n",
    "0&0&0.03&0&0&0&0&0\\\\\n",
    "0&0&0&0.03&0&0&0&0\\\\\n",
    "0&0&0&0&0.03&0&0&0\\\\\n",
    "0&0&0&0&0&0.03&0&0\\\\\n",
    "0&0&0&0&0&0&0.03&0\\\\\n",
    "0&0&0&0&0&0&0&0.03 \n",
    "\\end{bmatrix}\n",
    "$$"
   ]
  },
  {
   "cell_type": "markdown",
   "id": "8819a8dd-80b2-4487-8284-12c2fccf28af",
   "metadata": {},
   "source": [
    "This is not the final variance-covariance of the RE because one needs to control for the stability of the autoregressive process. To this end, we sample a numger of `nSamp = 20000` set from a multivariate normal distribution of MVN$(0,G)$ and retain `nL2Max = 100` set for which the absoloute eigenvalues of $\\beta^{ar}+b^{ar}$ are less than one. These are stored in `b_ar`, `b_e`, `b_c`, and the variance-covariance of this latter sample as `b_cov`. "
   ]
  },
  {
   "cell_type": "markdown",
   "id": "66db10d1-a7b4-447e-99db-d937ff4904bf",
   "metadata": {},
   "source": [
    "This process is accomplished by calling the function \n",
    "```Julia\n",
    "genRE_CS(rng,G,B_AR,maxSbj,nSamp) \n",
    "```\n",
    "inside the constructor which updates the fields corresponding to the random-effects and their variance-covariance structure. In what follows we import the function definitions saved at the file `helperSim.jl`, included in the appendix, and then construct the parameters using a replicable RNG following `seed = 1984`."
   ]
  },
  {
   "cell_type": "code",
   "execution_count": 1,
   "id": "c93cdcdb-96c4-47ef-b97e-3f92d4c96c45",
   "metadata": {},
   "outputs": [],
   "source": [
    "include(\"helperSim.jl\");"
   ]
  },
  {
   "cell_type": "code",
   "execution_count": 2,
   "id": "808dd7cc-c5ff-4366-9557-18277e2be8e7",
   "metadata": {},
   "outputs": [],
   "source": [
    "par = parLARMEx(seed=1984);"
   ]
  },
  {
   "cell_type": "markdown",
   "id": "90bb7949-a751-4b1a-916c-aea04f0dabd5",
   "metadata": {},
   "source": [
    "## Generating data"
   ]
  },
  {
   "cell_type": "markdown",
   "id": "e35cc6a4-e8ec-468e-9756-57688553097c",
   "metadata": {},
   "source": [
    "We assume that the data generating process has a two-level structure. The multiple observations are made on level I and these are nested in level II units. For EMA data, level I could be the daily observations, as many as `nObsL1`, which are nested in single days with a total number of `nL2`. These characteristics together with the varianc-covariance of noise, `sigma`, initial values for days, `S0`, and the vector of known exogenous factors, `E`, are stored in another `struct`. \n",
    "```Julia\n",
    "mutable struct simLARMEx\n",
    "    nObsL1::Int           # number of observation on level I            \n",
    "    nL2::Int              # number of units on level II\n",
    "    sigma::Float64        # variance of noise\n",
    "    M0::Matrix{Float64}   # initial values each day\n",
    "    E::Vector{Float64}    # known exogenous factors\n",
    "end\n",
    "```\n",
    "The constructor of this `struct` has the following signature,\n",
    "```Julia\n",
    "simLARMEx(;rng=MersenneTwister(), nObsL1=10, nL2=36, sigma=.2, M0_max=.5, E=[])\n",
    "```\n",
    "and keyword arguments as: "
   ]
  },
  {
   "cell_type": "markdown",
   "id": "8b85d2b6-9d5c-4a86-b5de-5715337ecd2f",
   "metadata": {},
   "source": [
    "- `rng = MersenneTwister()`: feed `parLARMEx.rng` for consistency and replication, initialized anew by default\n",
    "- `nObsL1 = 10`: number of observation on level I \n",
    "- `nL2 = 36`: number of units on level II\n",
    "- `sigma = .02`: variance of noise \n",
    "- `M0_max = .5`: determines the amplitude of initial values and exogenous factors, 0.5 to keep trajectories mostly in [-1,1]\n",
    "- `E = []`: known exogenous factors of size [`nL2` x `nObsL1`], drawn randomly from [`0`, `M0_max`] by default"
   ]
  },
  {
   "cell_type": "markdown",
   "id": "dae025c2-19c8-4ea6-ab6f-12443f65e8ee",
   "metadata": {},
   "source": [
    "The following code snippet setts up the configuration of the desired data set. The RNG is carried over to perovide replicablity. Finally, `genData()` gives the simulated data along with the noiseless data as dataframes and the signal-to-noise-ratio (SNR). "
   ]
  },
  {
   "cell_type": "code",
   "execution_count": 3,
   "id": "dc88f75e-b22c-4427-a0b5-26aaf84b5430",
   "metadata": {},
   "outputs": [],
   "source": [
    "sim = simLARMEx(rng=par.rng);\n",
    "simData, simData0, SNR = genData(par, sim);"
   ]
  },
  {
   "cell_type": "code",
   "execution_count": 5,
   "id": "687f7557-a45c-4a32-a17a-d80fa09a4b04",
   "metadata": {},
   "outputs": [
    {
     "name": "stdout",
     "output_type": "stream",
     "text": [
      "\u001b[1m5×5 DataFrame\u001b[0m\n",
      "\u001b[1m Row \u001b[0m│\u001b[1m idL2  \u001b[0m\u001b[1m tL1   \u001b[0m\u001b[1m M1         \u001b[0m\u001b[1m M2        \u001b[0m\u001b[1m E        \u001b[0m\n",
      "     │\u001b[90m Int64 \u001b[0m\u001b[90m Int64 \u001b[0m\u001b[90m Float64    \u001b[0m\u001b[90m Float64   \u001b[0m\u001b[90m Float64  \u001b[0m\n",
      "─────┼───────────────────────────────────────────────\n",
      "   1 │     1      1  -0.0714286   0.438776  0.265306\n",
      "   2 │     1      2  -0.0271097   0.1977    0.489796\n",
      "   3 │     1      3   0.204667    0.083435  0.193878\n",
      "   4 │     1      4   0.30021    -0.039331  0.234694\n",
      "   5 │     1      5   0.193203   -0.165018  0.255102"
     ]
    }
   ],
   "source": [
    "show(first(simData,5),allcols=true)\n",
    "# latexify(round.(simData[1:5,:],digits=2))"
   ]
  },
  {
   "cell_type": "markdown",
   "id": "dfa8aadf-a698-4784-a2c6-4616101b50a3",
   "metadata": {},
   "source": [
    "The returned values are"
   ]
  },
  {
   "cell_type": "markdown",
   "id": "3f154437-f355-4959-9177-381a56330217",
   "metadata": {},
   "source": [
    "- `simData`: the simulated data according to the setup so far\n",
    "- `simData0`: the simulated data without the noise component used to calculate the SNR\n",
    "- `SNR`: the ratio of the variance of noiseless data to that of noise"
   ]
  },
  {
   "cell_type": "markdown",
   "id": "62b69534-9f86-4c04-b651-d997802b6dc1",
   "metadata": {},
   "source": [
    "## Transforming to classical mixed-effects model"
   ]
  },
  {
   "cell_type": "markdown",
   "id": "b83e673b-4f24-4f19-8452-4052e761a6dc",
   "metadata": {},
   "source": [
    "By stacking mood values, parameters and covariates for every day separately, and forming the design matrices\n",
    "for fixed and random effects, $X$ and $Z$, data from a single day takes the following matrix form which is \n",
    "equivalent to a linear mixed effects formulation.\n",
    "$$\n",
    "Y_i = X_i\\beta + Z_i b_i + \\epsilon_i\n",
    "$$"
   ]
  },
  {
   "cell_type": "markdown",
   "id": "f2cd871a-31a3-4189-9ebc-ce5446c69b3e",
   "metadata": {},
   "source": [
    "In this formulation for a network of two moods and one external nodes one has\n",
    "\n",
    "$$\n",
    "Y_i = \\begin{bmatrix}\n",
    "m_{1,1} & m_{1,2} & \\ldots & m_{1,n_i} & m_{2,1} & m_{2,2} & \\ldots & m_{2,n_i}\n",
    "\\end{bmatrix}^T_i,\n",
    "$$\n",
    "$$\n",
    "\\beta = \\begin{bmatrix}\n",
    "\\beta_{11}   & \\beta_{12}   & \\beta_{21}   & \\beta_{22} & \\beta^{e}_1 &\n",
    "\\beta^{e}_2 &   \\beta^{c}_1 & \\beta^{c}_2\n",
    "\\end{bmatrix}^T,\n",
    "$$\n",
    "and"
   ]
  },
  {
   "cell_type": "markdown",
   "id": "d1fc355f-8057-43cc-a5f0-1b49a5c1cbf7",
   "metadata": {},
   "source": [
    "$$\n",
    "X_i = Z_i = \\begin{bmatrix}\n",
    "m_{1,0}     & m_{2,0}     & 0           & 0           & 1 & e_1     & 0 & 0 \\\\\n",
    "m_{1,1}     & m_{2,1}     & 0           & 0           & 1 & e_2     & 0 & 0 \\\\\n",
    "\\vdots      & \\vdots      &             &             &   & \\vdots  &   &   \\\\\n",
    "m_{1,n_i-1} & m_{2,n_i-1} & 0           & 0           & 1 & e_{n_i} & 0 & 0 \\\\\n",
    "0           & 0           & m_{1,0}     & m_{2,0}     & 0 & 0       & 1 & e_1 \\\\\n",
    "0           & 0           & m_{1,1}     & m_{2,1}     & 0 & 0       & 1 & e_2\\\\\n",
    "\\vdots      & \\vdots      & \\vdots      & \\vdots      &   &         &   & \\vdots\\\\\n",
    "0           & 0           & m_{1,n_i-1} & m_{2,n_i-1} & 0 & 0       & 1 & e_{n_i}\n",
    "\\end{bmatrix}\n",
    "$$"
   ]
  },
  {
   "cell_type": "markdown",
   "id": "618c180c-b8a9-4cdb-85d3-ed281e20dcca",
   "metadata": {},
   "source": [
    "In its general form, the above equation for $k$ moods, $Y_i$ is a $k(n_i-1) \\times 1$\n",
    "vector of mood values, $\\beta$ is a $(k^2+2k) \\times 1$ vector of fixed effects, $b_i$ is a\n",
    "$(k^2+2k) \\times 1$ vector of random effects, $X_i$ and $Z_i$ are $k(n_i-1) \\times (k^2+2k)$\n",
    "design matrices. The random effects $b_i$ and  residuals $\\epsilon_i$ are assumed to be independent with\n",
    "a multivariate normal (MVN) distribution of \n",
    "$$\n",
    "\\begin{bmatrix} b_i \\\\ \\epsilon_i \\end{bmatrix}  \\sim MVN\\left(\n",
    "\\begin{bmatrix} {0} \\\\ {0} \\end{bmatrix},\n",
    "\\begin{bmatrix} G & {0} \\\\ {0} & \\Sigma_i \\end{bmatrix}\\right).\n",
    "$$  "
   ]
  },
  {
   "cell_type": "markdown",
   "id": "8e2b59b0-bb85-46be-a7cf-043b9ba8fced",
   "metadata": {},
   "source": [
    "This step is done by the following function which gives another dataframe suitable for performing the estimation.\n",
    "```Julia\n",
    "prepData2Fit(rawData,idL2,endList,exgList)\n",
    "```\n",
    "with the following arguments:"
   ]
  },
  {
   "cell_type": "markdown",
   "id": "efc0f9dc-cd35-41bf-938d-83d1f5e9961f",
   "metadata": {},
   "source": [
    "- `rawData`: the simulated data as a dataframe\n",
    "- `idL2`: the column name for level II units, e.g., an id for each day, `\"idL2\"` here\n",
    "- `endList`: the list of temporelly connected moods, `[\"M1\",\"M2\"]` here\n",
    "- `exgList`: the list of exogenous factors together with the constant terms, `[\"E\",\"C\"]` here "
   ]
  },
  {
   "cell_type": "code",
   "execution_count": 7,
   "id": "515976a0-7094-4151-9b00-819886f2b375",
   "metadata": {},
   "outputs": [
    {
     "name": "stdout",
     "output_type": "stream",
     "text": [
      "\u001b[1m5×11 DataFrame\u001b[0m\n",
      "\u001b[1m Row \u001b[0m│\u001b[1m idL2 \u001b[0m\u001b[1m tL1   \u001b[0m\u001b[1m M          \u001b[0m\u001b[1m M11        \u001b[0m\u001b[1m M12       \u001b[0m\u001b[1m M21     \u001b[0m\u001b[1m M22     \u001b[0m\u001b[1m E1       \u001b[0m\u001b[1m E2      \u001b[0m\u001b[1m C1      \u001b[0m\u001b[1m C2      \u001b[0m\n",
      "     │\u001b[90m Cat… \u001b[0m\u001b[90m Int16 \u001b[0m\u001b[90m Float64    \u001b[0m\u001b[90m Float64    \u001b[0m\u001b[90m Float64   \u001b[0m\u001b[90m Float64 \u001b[0m\u001b[90m Float64 \u001b[0m\u001b[90m Float64  \u001b[0m\u001b[90m Float64 \u001b[0m\u001b[90m Float64 \u001b[0m\u001b[90m Float64 \u001b[0m\n",
      "─────┼───────────────────────────────────────────────────────────────────────────────────────────────────────\n",
      "   1 │ 1         2  -0.0271097  -0.0714286   0.438776     -0.0      0.0  0.489796      0.0      1.0      0.0\n",
      "   2 │ 1         3   0.204667   -0.0271097   0.1977       -0.0      0.0  0.193878      0.0      1.0      0.0\n",
      "   3 │ 1         4   0.30021     0.204667    0.083435      0.0      0.0  0.234694      0.0      1.0      0.0\n",
      "   4 │ 1         5   0.193203    0.30021    -0.039331      0.0     -0.0  0.255102      0.0      1.0      0.0\n",
      "   5 │ 1         6   0.649712    0.193203   -0.165018      0.0     -0.0  0.489796      0.0      1.0      0.0"
     ]
    }
   ],
   "source": [
    "fitData = prepData2Fit(simData,\"idL2\",[\"M1\",\"M2\"],[\"E\",\"C\"]);\n",
    "show(first(fitData,5),allcols=true)"
   ]
  },
  {
   "cell_type": "code",
   "execution_count": 8,
   "id": "be8639db-1199-4668-87a9-e0a78721cb61",
   "metadata": {},
   "outputs": [],
   "source": [
    "# df = fitData[1:5,:]; df[:,3:end] = round.(df[:,3:end],digits=2);\n",
    "# latexify(df)"
   ]
  },
  {
   "cell_type": "markdown",
   "id": "76b9190a-2fd4-4c94-a9fb-18ae5a04768f",
   "metadata": {},
   "source": [
    "## Setting up the formula for fitting"
   ]
  },
  {
   "cell_type": "markdown",
   "id": "46e58d2f-de91-4346-950b-2efb9fb7d864",
   "metadata": {},
   "source": [
    "The prepared data has more columns representing the response variable `M`, and the predictors including the connections in the network `M11, M12, M21, M22, E1, E2`, as well as the constant terms `C1, C2`. It also contains the level I time points `tL1`, and the level II identifiers `idL2`. We provide a function\n",
    "```Julia\n",
    "setFormula(fitData)\n",
    "```\n",
    "which constructs the formula suitable to feed in the Julia package [MixedModels.jl](https://juliastats.org/MixedModels.jl/stable/). This function is restricted only to a dataframe which has the exact columns as shown above."
   ]
  },
  {
   "cell_type": "code",
   "execution_count": 9,
   "id": "0ff0c5d8-7aa7-4ded-862a-122472abfbce",
   "metadata": {},
   "outputs": [
    {
     "data": {
      "text/plain": [
       "FormulaTerm\n",
       "Response:\n",
       "  M(unknown)\n",
       "Predictors:\n",
       "  0\n",
       "  M11(unknown)\n",
       "  M12(unknown)\n",
       "  M21(unknown)\n",
       "  M22(unknown)\n",
       "  E1(unknown)\n",
       "  E2(unknown)\n",
       "  (M11,M12,M21,M22,E1,E2,C1,C2,idL2)->(0 + M11 + M12 + M21 + M22 + E1 + E2 + C1 + C2) | idL2"
      ]
     },
     "execution_count": 9,
     "metadata": {},
     "output_type": "execute_result"
    }
   ],
   "source": [
    "frm = setFormula(fitData)"
   ]
  },
  {
   "cell_type": "markdown",
   "id": "ebac64f0-4bc9-4de7-8330-74f3cffa2ba4",
   "metadata": {},
   "source": [
    "## Fitting"
   ]
  },
  {
   "cell_type": "markdown",
   "id": "0349233e-2108-412b-98a9-c5759a2868b5",
   "metadata": {},
   "source": [
    "We use the [MixedModels.jl](https://juliastats.org/MixedModels.jl/stable/) package in Julia to perform the estimation. It is similar to the [lme4](https://github.com/lme4/lme4) in R but exhibits faster performance in our case. "
   ]
  },
  {
   "cell_type": "code",
   "execution_count": 10,
   "id": "ba764778-bae3-4fe4-87ea-5424aaf19ab1",
   "metadata": {},
   "outputs": [
    {
     "name": "stdout",
     "output_type": "stream",
     "text": [
      "Linear mixed model fit by maximum likelihood\n",
      " M ~ 0 + M11 + M12 + M21 + M22 + E1 + E2 + (0 + M11 + M12 + M21 + M22 + E1 + E2 + C1 + C2 | idL2)\n",
      "   logLik   -2 logLik     AIC       AICc        BIC    \n",
      "   246.8662  -493.7325  -407.7325  -401.4676  -215.3552\n",
      "\n",
      "Variance components:\n",
      "         ColumnVariance Std.Dev.   Corr.\n",
      "idL2     M11  0.019061 0.138061\n",
      "         M12  0.065374 0.255683 +0.26\n",
      "         M21  0.025504 0.159698 -0.50 +0.68\n",
      "         M22  0.048216 0.219580 -0.70 +0.01 +0.37\n",
      "         E1   0.027284 0.165178 +0.49 +0.27 -0.05 -0.59\n",
      "         E2   0.021291 0.145915 +0.77 +0.57 -0.11 -0.45 +0.28\n",
      "         C1   0.031657 0.177924 -0.11 +0.20 +0.41 -0.15 +0.39 -0.45\n",
      "         C2   0.031121 0.176413 +0.33 +0.03 -0.15 -0.17 -0.31 -0.01 +0.34\n",
      "Residual      0.017568 0.132546\n",
      " Number of obs: 648; levels of grouping factors: 36\n",
      "\n",
      "  Fixed-effects parameters:\n",
      "───────────────────────────────────────────\n",
      "         Coef.  Std. Error      z  Pr(>|z|)\n",
      "───────────────────────────────────────────\n",
      "M11   0.161206   0.0441475   3.65    0.0003\n",
      "M12  -0.482363   0.0594071  -8.12    <1e-15\n",
      "M21  -0.281319   0.0450169  -6.25    <1e-09\n",
      "M22   0.342126   0.0553527   6.18    <1e-09\n",
      "E1    0.394367   0.0587704   6.71    <1e-10\n",
      "E2   -0.254358   0.0542651  -4.69    <1e-05\n",
      "───────────────────────────────────────────"
     ]
    }
   ],
   "source": [
    "fit = MixedModels.fit(MixedModel, frm, fitData, progress=false);\n",
    "show(fit)"
   ]
  },
  {
   "cell_type": "markdown",
   "id": "be7d1f45-c7fc-4398-866f-a3c2716c9784",
   "metadata": {},
   "source": [
    "## Parameter recovery"
   ]
  },
  {
   "cell_type": "markdown",
   "id": "481baa44-30a7-45e7-b817-67c951ae6b98",
   "metadata": {},
   "source": [
    "In order to investigate how well one can recover the parameters, we generate data with the following specifications:"
   ]
  },
  {
   "cell_type": "markdown",
   "id": "b7163273-322a-4bd7-a646-d19e50302f47",
   "metadata": {},
   "source": [
    "- number of observations per day: $10$\n",
    "- $(\\sigma^2,\\text{SNR})\\in\\{(0.01,12),(0.02,6),(0.06,2)\\}$\n",
    "- number of days, $N \\in \\{4,6,\\ldots,36\\}$\n",
    "- $\\beta^{ar}$, $\\beta^{e}$ and $\\beta^{c}$ as before\n",
    "- data is generated for one simulated subject, 1000 times repeat\n",
    "- at every iteration new parameters are generated"
   ]
  },
  {
   "cell_type": "markdown",
   "id": "4c882e62-d93c-4dee-a08d-bc3a1eb3d33d",
   "metadata": {},
   "source": [
    "The job can be done using the script `simBootstrap.jl`. It uses the followint function to generate data. \n",
    "```Julia\n",
    "loopSim(csvDir, M0_max, sigma, n, P)\n",
    "```\n",
    "It creates a folder under `csvDir` and for each noise intensity, `sigma = .02` here, saves the true and estimated parameters of each simulation in different folders, `re` and `reh`, based on the number of days as `CSV` files. Fixed-effects and the variances of random-effects are collected in two separate `CSV` files as well."
   ]
  },
  {
   "cell_type": "markdown",
   "id": "6fd7b4cd-ca96-4685-a8c1-48c653eec9ab",
   "metadata": {},
   "source": [
    "The code takes a couple of hours, depending of course on the computational power. Using the estimated parameters we construct bootstrap confidence intervals for the fixed-effects and the variance of random-effects. "
   ]
  },
  {
   "cell_type": "markdown",
   "id": "d55ac9e5-294c-417b-81f3-d15ab57e1534",
   "metadata": {},
   "source": [
    "\\putFigBox{\\includegraphics[width=\\textwidth,center]{feCI}}"
   ]
  },
  {
   "cell_type": "markdown",
   "id": "a127bb78-3f69-4739-8ce4-221e0540e1ec",
   "metadata": {},
   "source": [
    "<div>\n",
    "<center><img src=\"./img/feCI.svg\" width=\"800\"/></center>\n",
    "</div>"
   ]
  },
  {
   "cell_type": "markdown",
   "id": "b4016fc6-e77f-4efd-bd4f-3ae7723a18b3",
   "metadata": {},
   "source": [
    "The number of observations per day is $10$. True values of parameters are highlighted bold on x axes. For every number of days at the horizontal axes, three lines are drawn representing the bootstrap $95\\%$ confidence intervals around the median depicted by cross signs. Every line is color-coded to demonstrate one noise intensity. Data has been generated for one simulated subject, 1000 times repeatedly, with $(\\sigma^2,\\text{SNR})\\in\\{(0.01,12),(0.02,6),(0.06,2)\\}$."
   ]
  },
  {
   "cell_type": "markdown",
   "id": "7c984f10-75e4-402b-ad7b-55d4eb71e122",
   "metadata": {},
   "source": [
    "\\putFigBox{\\includegraphics[width=\\textwidth,center]{sigCI}}"
   ]
  },
  {
   "cell_type": "markdown",
   "id": "6df74d2b-db14-4ffc-b2f9-9c1621ee0234",
   "metadata": {},
   "source": [
    "<div>\n",
    "<center><img src=\"./img/sigCI.svg\" width=\"800\"/></center>\n",
    "</div>"
   ]
  },
  {
   "cell_type": "markdown",
   "id": "9ce16023-d770-406d-b00d-ff0c5820af58",
   "metadata": {},
   "source": [
    "True values of parameters are highlighted bold on x axes, $\\sqrt{0.03}\\approx 0.17$."
   ]
  },
  {
   "cell_type": "markdown",
   "id": "fbe6b5d0-93cf-4c94-997c-c0d105e9f442",
   "metadata": {},
   "source": [
    "We also calculate the relative estimation error, $\\delta$, in the aforementioned cases as $\\delta_\\theta = |\\hat{\\theta}-\\theta|/|\\theta|$ in which $\\theta$ and $\\hat{\\theta}$ are the true and estimated parameters respectively with $(\\sigma^2,\\text{SNR})=(0.02,6)$. To avoid computational difficulties only random effects larger than $0.02$ are considered in these analyses. We also report only the coefficients present in a network representation, i.e., $\\beta^{ar}$, $\\beta^{e}$, $b^{ar}$ and $b^{e}$. This is to show that in a mixed effects model the prediction of random effects is not as reliable as fixed effects in terms of being able to recover the parameters varying over days in our case. The reason is that only the variance of random effects are present in the likelihood function and individual values are not estimated directly but only up to their variance. More precisely what one gets as the output of software packages like [MixedModels.jl](https://juliastats.org/MixedModels.jl/stable/) in Julia or [lme4](https://github.com/lme4/lme4) in R holds only for the expected values and should not be considered as single parameter estimations. In the following figure it is clearly seen that the median relative estimation error for random effects approaches to about $40\\%$ as the number of days grows and the change is minimal after 20 days. Whereas, for the fixed effects, the value is below $20\\%$ which indicates that with a reasonable amount of data one could hope for even better estimates for the fixed effects but this is still far from being optimal. The two separate solid and dashed lines correspond to the coefficients of the exogenous factors which have poor estimations compared to others."
   ]
  },
  {
   "cell_type": "markdown",
   "id": "f79919b5-76bd-48ae-8bc5-4eef0672069c",
   "metadata": {},
   "source": [
    "\\putFigBox{\\includegraphics[width=\\textwidth,center]{sig1EE}}"
   ]
  },
  {
   "cell_type": "markdown",
   "id": "a275fcab-b94c-4c62-b7d3-81d2e4435344",
   "metadata": {},
   "source": [
    "<div>\n",
    "<center><img src=\"./img/sig1EE.svg\" width=\"800\"/></center>\n",
    "</div>"
   ]
  },
  {
   "cell_type": "markdown",
   "id": "ddda623a-d67b-439c-b2e6-e1568fc49b67",
   "metadata": {},
   "source": [
    "## Conclusion"
   ]
  },
  {
   "cell_type": "markdown",
   "id": "3e5fb4c9-4bbc-4495-8ab7-f0e24211b405",
   "metadata": {},
   "source": [
    "We studied an extension of linear mixed-effects models by adding an autoregressive component to model the network representation of mental state which is suitable for intensive longitudinal data, the so-called ecological momentary assessments acquired by experience sampling methods. Specifically, we assumed the simplest possible network of two causally interacting mood nodes under the influence of external factors represented by a node acting on both moods in a contemporaneous fashion.\n",
    "\n",
    "We showed briefly how this representation is mathematically formulated and detailed the implementation of such a model in Julia. The practical implementation of data generating process was shown by explicit codes which is available on a public repository under GitHub. We also provided exemplary code for performing a bootstrap analysis to construct confidence intervals for the estimations. The goal here was to calibrate the model through imulations by quantifying the estimation errors. Further work is needed to perform the calibration and validation using real data.  \n",
    "\n",
    "Given that our target was building individualized networks, we based our study on a two-level model with daily observations nested in days for a specific respondent. Using simulated data, we constructed bootstrap confidence intervals for the fixed effect parameters and showed what one could expect from this model as more days are added to the observation. We argued that random effects are not directly estimated in this procedure and highlighted the difference between the relative estimation errors for fixed and random effects which showed that in a mixed model random effects are identified less precisely. Consequently, as the number of observations increases the gain in precision is very little. Therefore, in order to infer individual networks from ecological momentary assessments, one should build a two-level model with daily observations nested in days for a single respondent.\n",
    "\n",
    "We mainly considered one aspect of study design related to sample size and varied the number of observations per subject by adding more days. We also showed how sensitive such a model might be to the intensity of noise in data. However, the provided code could be modified to study other variants to these scenarios."
   ]
  }
 ],
 "metadata": {
  "kernelspec": {
   "display_name": "Julia 1.8.4",
   "language": "julia",
   "name": "julia-1.8"
  },
  "language_info": {
   "file_extension": ".jl",
   "mimetype": "application/julia",
   "name": "julia",
   "version": "1.8.4"
  }
 },
 "nbformat": 4,
 "nbformat_minor": 5
}
